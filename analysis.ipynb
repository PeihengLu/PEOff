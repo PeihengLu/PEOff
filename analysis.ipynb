{
 "cells": [
  {
   "cell_type": "markdown",
   "metadata": {},
   "source": [
    "## Distribution of editing efficiency"
   ]
  },
  {
   "cell_type": "markdown",
   "metadata": {
    "vscode": {
     "languageId": "plaintext"
    }
   },
   "source": [
    "### PRIDICT\n",
    "\n",
    "The dataset of pridict-1 has 90k examples, the example suggests using a zero inflated poisson or gaussian distribution"
   ]
  },
  {
   "cell_type": "code",
   "execution_count": 7,
   "metadata": {},
   "outputs": [
    {
     "data": {
      "image/png": "[encoded data removed]",
      "text/plain": [
       "<Figure size 640x480 with 1 Axes>"
      ]
     },
     "metadata": {},
     "output_type": "display_data"
    }
   ],
   "source": [
    "from os.path import join as pjoin\n",
    "\n",
    "import pandas as pd\n",
    "import numpy as np\n",
    "import matplotlib.pyplot as plt\n",
    "import seaborn as sns\n",
    "\n",
    "# Load the data\n",
    "path = pjoin('data', 'pridict-90k.csv')\n",
    "df = pd.read_csv(path)\n",
    "\n",
    "efficiency_col = 'averageedited'\n",
    "df = df[df[efficiency_col].notnull()]\n",
    "\n",
    "\n",
    "# list out zero efficiency as a separate group\n",
    "zero_efficiency = df[df[efficiency_col] == 0]\n",
    "non_zero_efficiency = df[df[efficiency_col] > 0]\n",
    "\n",
    "# plot the distribution of efficiency\n",
    "fig, ax = plt.subplots()\n",
    "sns.histplot(non_zero_efficiency[efficiency_col], bins=20, ax=ax)\n",
    "ax.set_xlabel('Efficiency')\n",
    "ax.set_ylabel('Count')\n",
    "ax.set_title('Efficiency Distribution')\n",
    "\n",
    "# true zero is a separate bar\n",
    "ax.bar(0, len(zero_efficiency), color='red', alpha=0.5, width=2)\n",
    "\n",
    "\n",
    "# save the figure\n",
    "fig.savefig(pjoin('figures', 'efficiency_distribution.png'))"
   ]
  },
  {
   "cell_type": "code",
   "execution_count": 3,
   "metadata": {},
   "outputs": [],
   "source": [
    "# acquire a subset of the pridict 90k dataset\n",
    "from os.path import join as pjoin\n",
    "\n",
    "import pandas as pd\n",
    "import numpy as np\n",
    "import matplotlib.pyplot as plt\n",
    "import seaborn as sns\n",
    "\n",
    "# Load the data\n",
    "path = pjoin('data', 'pridict-90k.csv')\n",
    "df = pd.read_csv(path)\n",
    "\n",
    "efficiency_col = 'averageedited'\n",
    "df = df[df[efficiency_col].notnull()]\n",
    "\n",
    "# rename name column to HGVS\n",
    "df.rename(columns={'Name': 'HGVS'}, inplace=True)\n",
    "\n",
    "# get 1000 random samples and save a pridict-90k-small.csv\n",
    "df.sample(1000).to_csv(pjoin('data', 'pridict-90k-small.csv'), index=False)"
   ]
  },
  {
   "cell_type": "markdown",
   "metadata": {},
   "source": [
    "# Data Parsing"
   ]
  },
  {
   "cell_type": "markdown",
   "metadata": {},
   "source": [
    "## HGVS to hg38 coordinates"
   ]
  },
  {
   "cell_type": "code",
   "execution_count": 2,
   "metadata": {},
   "outputs": [
    {
     "name": "stderr",
     "output_type": "stream",
     "text": [
      "100%|██████████| 2/2 [00:07<00:00,  3.69s/it]"
     ]
    },
    {
     "name": "stdout",
     "output_type": "stream",
     "text": [
      "   averageedited  averageunedited  averageindel  \\\n",
      "0      61.037202        15.624968     23.337831   \n",
      "1      75.728608        21.184532      3.086859   \n",
      "2      62.291955        14.233247     23.474798   \n",
      "3      73.368779        12.469879     14.161342   \n",
      "4       2.869652        92.088859      5.041489   \n",
      "\n",
      "                                              HGVS   Gene  \\\n",
      "0           NM_000157.4(GBA):c.630del (p.Val211fs)    GBA   \n",
      "1           NM_178152.3(DCX):c.266G>C (p.Arg89Pro)    DCX   \n",
      "2        NM_000527.4(LDLR):c.1786A>T (p.Lys596Ter)   LDLR   \n",
      "3       NM_000135.4(FANCA):c.3558dup (p.Arg1187fs)  FANCA   \n",
      "4  NM_006920.6(SCN1A):c.3769_3779del (p.Leu1257fs)  SCN1A   \n",
      "\n",
      "                                           Phenotype  PBSlength  \\\n",
      "0                                    Gaucher disease         13   \n",
      "1                                        Heterotopia         13   \n",
      "2                      Familial hypercholesterolemia         13   \n",
      "3  Fanconi anemia;Fanconi anemia, complementation...         13   \n",
      "4               Severe myoclonic epilepsy in infancy         13   \n",
      "\n",
      "   RToverhanglength  RTlength ReferenceAllele  ... protobase_19  \\\n",
      "0                 7        12               G  ...            A   \n",
      "1                15        20               C  ...            A   \n",
      "2                15        22               A  ...            C   \n",
      "3                10        19               -  ...            G   \n",
      "4                15        30     CATTTTAGAAG  ...            T   \n",
      "\n",
      "                                     uniqueprotoname  bestoverhang  Namenr  \\\n",
      "0  NM_000157.4(GBA):c.630del (p.Val211fs)GGGCTGGC...          15.0    1398   \n",
      "1  NM_178152.3(DCX):c.266G>C (p.Arg89Pro)TGATGTTG...          10.0   12847   \n",
      "2  NM_000527.4(LDLR):c.1786A>T (p.Lys596Ter)CGATG...           7.0    4361   \n",
      "3  NM_000135.4(FANCA):c.3558dup (p.Arg1187fs)GCCT...           7.0    1005   \n",
      "4  NM_006920.6(SCN1A):c.3769_3779del (p.Leu1257fs...          10.0    9630   \n",
      "\n",
      "   uniqueindex flapbasebefore_revcomp  flabbaserevised basebeforeproto  chrom  \\\n",
      "0        53958                      A                A               G   chr1   \n",
      "1        44830                      T                T               T   chrX   \n",
      "2        59091                      C                C               T  chr19   \n",
      "3        13498                      G                G               A  chr16   \n",
      "4        80275                      T                T               T   chr2   \n",
      "\n",
      "         pos  \n",
      "0  155238264  \n",
      "1  111410133  \n",
      "2   11116939  \n",
      "3   89745026  \n",
      "4  166012175  \n",
      "\n",
      "[5 rows x 189 columns]\n"
     ]
    },
    {
     "name": "stderr",
     "output_type": "stream",
     "text": [
      "\n"
     ]
    }
   ],
   "source": [
    "from dataset import parse_hgvs\n",
    "from os.path import join as pjoin\n",
    "import pandas as pd\n",
    "\n",
    "# load the small dataset\n",
    "path = pjoin('data', 'pridict-90k-small.csv')\n",
    "\n",
    "df = pd.read_csv(path)\n",
    "df = parse_hgvs(df)\n",
    "\n",
    "print(df.head())"
   ]
  }
 ],
 "metadata": {
  "kernelspec": {
   "display_name": "dl",
   "language": "python",
   "name": "python3"
  },
  "language_info": {
   "codemirror_mode": {
    "name": "ipython",
    "version": 3
   },
   "file_extension": ".py",
   "mimetype": "text/x-python",
   "name": "python",
   "nbconvert_exporter": "python",
   "pygments_lexer": "ipython3",
   "version": "3.11.7"
  }
 },
 "nbformat": 4,
 "nbformat_minor": 2
}
